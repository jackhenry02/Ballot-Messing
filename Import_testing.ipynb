{
 "cells": [
  {
   "cell_type": "code",
   "execution_count": 7,
   "metadata": {},
   "outputs": [],
   "source": [
    "import pandas as pd\n",
    "import numpy as np\n",
    "import requests"
   ]
  },
  {
   "cell_type": "code",
   "execution_count": 6,
   "metadata": {},
   "outputs": [
    {
     "data": {
      "text/plain": [
       "\"link = 'https://apps.chu.cam.ac.uk/internal/roomsballot/allchoices.php'\\ndf = pd.read_html(link)\\ndf(3)\""
      ]
     },
     "execution_count": 6,
     "metadata": {},
     "output_type": "execute_result"
    }
   ],
   "source": [
    "#try 1\n",
    "'''link = 'https://apps.chu.cam.ac.uk/internal/roomsballot/allchoices.php'\n",
    "df = pd.read_html(link)\n",
    "df(3)'''"
   ]
  },
  {
   "cell_type": "code",
   "execution_count": 1,
   "metadata": {},
   "outputs": [
    {
     "data": {
      "text/plain": [
       "'#try2\\nimport pandas as pd\\nimport requests\\n \\ndef read_html_with_requests(file_url):\\n    # Fetch HTML content using requests\\n    response = requests.get(file_url)\\n    # Read HTML content into DataFrame using read_html()\\n    df = pd.read_html(response.content)[0]\\n    return df\\n \\n# File URL\\nhtml_file_url = \\'https://apps.chu.cam.ac.uk/internal/roomsballot/allchoices.php\\'\\n \\n# Read HTML file using requests with read_html()\\ndf = read_html_with_requests(html_file_url)\\n \\n# Display DataFrame\\nprint(\"Approach 3 Output:\")\\nprint(df)'"
      ]
     },
     "execution_count": 1,
     "metadata": {},
     "output_type": "execute_result"
    }
   ],
   "source": [
    "'''#try2\n",
    "import pandas as pd\n",
    "import requests\n",
    " \n",
    "def read_html_with_requests(file_url):\n",
    "    # Fetch HTML content using requests\n",
    "    response = requests.get(file_url)\n",
    "    # Read HTML content into DataFrame using read_html()\n",
    "    df = pd.read_html(response.content)[0]\n",
    "    return df\n",
    " \n",
    "# File URL\n",
    "html_file_url = 'https://apps.chu.cam.ac.uk/internal/roomsballot/allchoices.php'\n",
    " \n",
    "# Read HTML file using requests with read_html()\n",
    "df = read_html_with_requests(html_file_url)\n",
    " \n",
    "# Display DataFrame\n",
    "print(\"Approach 3 Output:\")\n",
    "print(df)'''"
   ]
  },
  {
   "cell_type": "code",
   "execution_count": 5,
   "metadata": {},
   "outputs": [
    {
     "data": {
      "text/plain": [
       "'import subprocess\\n\\ndef php(script_path):\\n    p = subprocess.Popen([\\'php\\', script_path], stdout=subprocess.PIPE)\\n    result = p.communicate()[0]\\n    return result\\n\\n# YOUR CODE BELOW:\\n\\nballot_table = php(\"https://apps.chu.cam.ac.uk/internal/roomsballot/allchoices.php\") \\nprint(ballot_table)'"
      ]
     },
     "execution_count": 5,
     "metadata": {},
     "output_type": "execute_result"
    }
   ],
   "source": [
    "'''import subprocess\n",
    "\n",
    "def php(script_path):\n",
    "    p = subprocess.Popen(['php', script_path], stdout=subprocess.PIPE)\n",
    "    result = p.communicate()[0]\n",
    "    return result\n",
    "\n",
    "# YOUR CODE BELOW:\n",
    "\n",
    "ballot_table = php(\"https://apps.chu.cam.ac.uk/internal/roomsballot/allchoices.php\") \n",
    "print(ballot_table)'''"
   ]
  },
  {
   "cell_type": "code",
   "execution_count": 10,
   "metadata": {},
   "outputs": [
    {
     "ename": "InvalidSchema",
     "evalue": "No connection adapters were found for '<!DOCTYPE html>\\n<html>\\n    <head>\\n        <meta charset=\"utf-8\" />\\n        <meta name=\"viewport\" content=\"width=device-width,initial-scale=1.0\">\\n        <title>Cambridge Account - Loading Session Information</title>\\n        <script>\\n\"use strict\";\\nfunction readLocalStorage(key) {\\n    var success;\\n    try {\\n        var value = localStorage.getItem(key);\\n        if (value != null) {\\n            document.form1[\"shib_idp_ls_value.\" + key].value = value;\\n        }\\n        success = \"true\";\\n    } catch (e) {\\n        success = \"false\";\\n        document.form1[\"shib_idp_ls_exception.\" + key].value = e;\\n    }\\n    document.form1[\"shib_idp_ls_success.\" + key].value = success;\\n}\\n\\nfunction isLocalStorageSupported() {\\n    try {\\n        localStorage.setItem(\"shib_idp_ls_test\", \"shib_idp_ls_test\");\\n        localStorage.removeItem(\"shib_idp_ls_test\");\\n        return true;\\n    } catch (e) {\\n        return false;\\n    }\\n}\\n        </script>\\n        <link rel=\"stylesheet\" href=\"/stylesheets/custom.css?build=202303301735\" />\\n        <link rel=\"stylesheet\" href=\"/stylesheets/spinner.css?build=202303301735\" />\\n    </head>\\n    <body onload=\"doLoad()\">\\n      <div class=\"outer\">\\n       <div class=\"middle\">\\n        <div class=\"win-scroll\">\\n          <div class=\"flex-column\">\\n            <div id=\"lightbox\">\\n              <div class=\"lightbox-cover\"></div>\\n              <div>\\n                <img  id=\"bannerLogo\"\\n                      class=\"banner-logo ext-banner-logo\"\\n                      src=\"/images/cambridge-logo.png\" />\\n              </div>\\n              <div class=\"preloader\" align=\"center\">\\n                <div class=\\'loader\\'>\\n                  <div class=\"bg\"></div>\\n                  <div class=\\'circle\\'></div>\\n                  <div class=\\'circle\\'></div>\\n                  <div class=\\'circle\\'></div>\\n                  <div class=\\'circle\\'></div>\\n                  <div class=\\'circle\\'></div>\\n                </div>\\n              </div>\\n              <div class=\"redirect-type-block\" align=\"center\">\\n                <span class=\"redirect-type-block-text\">\\n                  Loading login session information from the browser...\\n                  </span>\\n                  <noscript>\\n                      <div class=\"no-js-content\">\\n                      Your browser either does not support JavaScript or it is being blocked. Please, enable JavaScript in your browser or use one which supports it.\\n                      </div>\\n                  </noscript>\\n              </div>\\n            </div>\\n          </div>\\n        </div>\\n      </div>\\n      <div class=\"bottom-bar\">\\n          <a target=\"_blank\" href=\"https://www.uis.cam.ac.uk/privacy-notice\">Privacy policy</a>\\n          <a target=\"_blank\" href=\"https://shib.raven.cam.ac.uk/cookie-policy.html\">Cookie policy</a>\\n          <a target=\"_blank\" href=\"https://help.uis.cam.ac.uk/service/accounts-passwords\">Help</a>\\n      </div>\\n    </div>\\n<form name=\"form1\" action=\"/idp/profile/SAML2/Redirect/SSO?execution=e1s1\" method=\"post\">\\n        <input name=\"shib_idp_ls_exception.shib_idp_session_ss\" type=\"hidden\" />\\n        <input name=\"shib_idp_ls_success.shib_idp_session_ss\" type=\"hidden\" value=\"false\" />\\n        <input name=\"shib_idp_ls_value.shib_idp_session_ss\" type=\"hidden\" />\\n        <input name=\"shib_idp_ls_exception.shib_idp_persistent_ss\" type=\"hidden\" />\\n        <input name=\"shib_idp_ls_success.shib_idp_persistent_ss\" type=\"hidden\" value=\"false\" />\\n        <input name=\"shib_idp_ls_value.shib_idp_persistent_ss\" type=\"hidden\" />\\n    <input name=\"shib_idp_ls_supported\" type=\"hidden\" />\\n    <input name=\"_eventId_proceed\" type=\"hidden\" />\\n    <noscript>\\n        <input type=\"submit\" value=\"Continue\" />\\n    </noscript>\\n</form>\\n\\n<script>\\n<!--\\nfunction doLoad() {\\n    var localStorageSupported = isLocalStorageSupported();\\n    document.form1[\"shib_idp_ls_supported\"].value = localStorageSupported;\\n    if (localStorageSupported) {\\n        readLocalStorage(\"shib_idp_session_ss\");\\n        readLocalStorage(\"shib_idp_persistent_ss\");\\n    }\\n    document.form1.submit();\\n}\\n// -->\\n</script>    </body>\\n</html>'",
     "output_type": "error",
     "traceback": [
      "\u001b[0;31m---------------------------------------------------------------------------\u001b[0m",
      "\u001b[0;31mInvalidSchema\u001b[0m                             Traceback (most recent call last)",
      "Cell \u001b[0;32mIn[10], line 13\u001b[0m\n\u001b[1;32m     10\u001b[0m page \u001b[38;5;241m=\u001b[39m res\u001b[38;5;241m.\u001b[39mtext\n\u001b[1;32m     12\u001b[0m \u001b[38;5;66;03m# Read HTML file using requests with read_html()\u001b[39;00m\n\u001b[0;32m---> 13\u001b[0m df \u001b[38;5;241m=\u001b[39m \u001b[43mread_html_with_requests\u001b[49m\u001b[43m(\u001b[49m\u001b[43mpage\u001b[49m\u001b[43m)\u001b[49m\n\u001b[1;32m     15\u001b[0m \u001b[38;5;66;03m# Display DataFrame\u001b[39;00m\n\u001b[1;32m     16\u001b[0m \u001b[38;5;28mprint\u001b[39m(\u001b[38;5;124m\"\u001b[39m\u001b[38;5;124mApproach 3 Output:\u001b[39m\u001b[38;5;124m\"\u001b[39m)\n",
      "Cell \u001b[0;32mIn[10], line 3\u001b[0m, in \u001b[0;36mread_html_with_requests\u001b[0;34m(file_url)\u001b[0m\n\u001b[1;32m      1\u001b[0m \u001b[38;5;28;01mdef\u001b[39;00m \u001b[38;5;21mread_html_with_requests\u001b[39m(file_url):\n\u001b[1;32m      2\u001b[0m     \u001b[38;5;66;03m# Fetch HTML content using requests\u001b[39;00m\n\u001b[0;32m----> 3\u001b[0m     response \u001b[38;5;241m=\u001b[39m \u001b[43mrequests\u001b[49m\u001b[38;5;241;43m.\u001b[39;49m\u001b[43mget\u001b[49m\u001b[43m(\u001b[49m\u001b[43mfile_url\u001b[49m\u001b[43m)\u001b[49m\n\u001b[1;32m      4\u001b[0m     \u001b[38;5;66;03m# Read HTML content into DataFrame using read_html()\u001b[39;00m\n\u001b[1;32m      5\u001b[0m     df \u001b[38;5;241m=\u001b[39m pd\u001b[38;5;241m.\u001b[39mread_html(response\u001b[38;5;241m.\u001b[39mcontent)[\u001b[38;5;241m0\u001b[39m]\n",
      "File \u001b[0;32m~/Library/Python/3.11/lib/python/site-packages/requests/api.py:73\u001b[0m, in \u001b[0;36mget\u001b[0;34m(url, params, **kwargs)\u001b[0m\n\u001b[1;32m     62\u001b[0m \u001b[38;5;28;01mdef\u001b[39;00m \u001b[38;5;21mget\u001b[39m(url, params\u001b[38;5;241m=\u001b[39m\u001b[38;5;28;01mNone\u001b[39;00m, \u001b[38;5;241m*\u001b[39m\u001b[38;5;241m*\u001b[39mkwargs):\n\u001b[1;32m     63\u001b[0m \u001b[38;5;250m    \u001b[39m\u001b[38;5;124mr\u001b[39m\u001b[38;5;124;03m\"\"\"Sends a GET request.\u001b[39;00m\n\u001b[1;32m     64\u001b[0m \n\u001b[1;32m     65\u001b[0m \u001b[38;5;124;03m    :param url: URL for the new :class:`Request` object.\u001b[39;00m\n\u001b[0;32m   (...)\u001b[0m\n\u001b[1;32m     70\u001b[0m \u001b[38;5;124;03m    :rtype: requests.Response\u001b[39;00m\n\u001b[1;32m     71\u001b[0m \u001b[38;5;124;03m    \"\"\"\u001b[39;00m\n\u001b[0;32m---> 73\u001b[0m     \u001b[38;5;28;01mreturn\u001b[39;00m \u001b[43mrequest\u001b[49m\u001b[43m(\u001b[49m\u001b[38;5;124;43m\"\u001b[39;49m\u001b[38;5;124;43mget\u001b[39;49m\u001b[38;5;124;43m\"\u001b[39;49m\u001b[43m,\u001b[49m\u001b[43m \u001b[49m\u001b[43murl\u001b[49m\u001b[43m,\u001b[49m\u001b[43m \u001b[49m\u001b[43mparams\u001b[49m\u001b[38;5;241;43m=\u001b[39;49m\u001b[43mparams\u001b[49m\u001b[43m,\u001b[49m\u001b[43m \u001b[49m\u001b[38;5;241;43m*\u001b[39;49m\u001b[38;5;241;43m*\u001b[39;49m\u001b[43mkwargs\u001b[49m\u001b[43m)\u001b[49m\n",
      "File \u001b[0;32m~/Library/Python/3.11/lib/python/site-packages/requests/api.py:59\u001b[0m, in \u001b[0;36mrequest\u001b[0;34m(method, url, **kwargs)\u001b[0m\n\u001b[1;32m     55\u001b[0m \u001b[38;5;66;03m# By using the 'with' statement we are sure the session is closed, thus we\u001b[39;00m\n\u001b[1;32m     56\u001b[0m \u001b[38;5;66;03m# avoid leaving sockets open which can trigger a ResourceWarning in some\u001b[39;00m\n\u001b[1;32m     57\u001b[0m \u001b[38;5;66;03m# cases, and look like a memory leak in others.\u001b[39;00m\n\u001b[1;32m     58\u001b[0m \u001b[38;5;28;01mwith\u001b[39;00m sessions\u001b[38;5;241m.\u001b[39mSession() \u001b[38;5;28;01mas\u001b[39;00m session:\n\u001b[0;32m---> 59\u001b[0m     \u001b[38;5;28;01mreturn\u001b[39;00m \u001b[43msession\u001b[49m\u001b[38;5;241;43m.\u001b[39;49m\u001b[43mrequest\u001b[49m\u001b[43m(\u001b[49m\u001b[43mmethod\u001b[49m\u001b[38;5;241;43m=\u001b[39;49m\u001b[43mmethod\u001b[49m\u001b[43m,\u001b[49m\u001b[43m \u001b[49m\u001b[43murl\u001b[49m\u001b[38;5;241;43m=\u001b[39;49m\u001b[43murl\u001b[49m\u001b[43m,\u001b[49m\u001b[43m \u001b[49m\u001b[38;5;241;43m*\u001b[39;49m\u001b[38;5;241;43m*\u001b[39;49m\u001b[43mkwargs\u001b[49m\u001b[43m)\u001b[49m\n",
      "File \u001b[0;32m~/Library/Python/3.11/lib/python/site-packages/requests/sessions.py:589\u001b[0m, in \u001b[0;36mSession.request\u001b[0;34m(self, method, url, params, data, headers, cookies, files, auth, timeout, allow_redirects, proxies, hooks, stream, verify, cert, json)\u001b[0m\n\u001b[1;32m    584\u001b[0m send_kwargs \u001b[38;5;241m=\u001b[39m {\n\u001b[1;32m    585\u001b[0m     \u001b[38;5;124m\"\u001b[39m\u001b[38;5;124mtimeout\u001b[39m\u001b[38;5;124m\"\u001b[39m: timeout,\n\u001b[1;32m    586\u001b[0m     \u001b[38;5;124m\"\u001b[39m\u001b[38;5;124mallow_redirects\u001b[39m\u001b[38;5;124m\"\u001b[39m: allow_redirects,\n\u001b[1;32m    587\u001b[0m }\n\u001b[1;32m    588\u001b[0m send_kwargs\u001b[38;5;241m.\u001b[39mupdate(settings)\n\u001b[0;32m--> 589\u001b[0m resp \u001b[38;5;241m=\u001b[39m \u001b[38;5;28;43mself\u001b[39;49m\u001b[38;5;241;43m.\u001b[39;49m\u001b[43msend\u001b[49m\u001b[43m(\u001b[49m\u001b[43mprep\u001b[49m\u001b[43m,\u001b[49m\u001b[43m \u001b[49m\u001b[38;5;241;43m*\u001b[39;49m\u001b[38;5;241;43m*\u001b[39;49m\u001b[43msend_kwargs\u001b[49m\u001b[43m)\u001b[49m\n\u001b[1;32m    591\u001b[0m \u001b[38;5;28;01mreturn\u001b[39;00m resp\n",
      "File \u001b[0;32m~/Library/Python/3.11/lib/python/site-packages/requests/sessions.py:697\u001b[0m, in \u001b[0;36mSession.send\u001b[0;34m(self, request, **kwargs)\u001b[0m\n\u001b[1;32m    694\u001b[0m hooks \u001b[38;5;241m=\u001b[39m request\u001b[38;5;241m.\u001b[39mhooks\n\u001b[1;32m    696\u001b[0m \u001b[38;5;66;03m# Get the appropriate adapter to use\u001b[39;00m\n\u001b[0;32m--> 697\u001b[0m adapter \u001b[38;5;241m=\u001b[39m \u001b[38;5;28;43mself\u001b[39;49m\u001b[38;5;241;43m.\u001b[39;49m\u001b[43mget_adapter\u001b[49m\u001b[43m(\u001b[49m\u001b[43murl\u001b[49m\u001b[38;5;241;43m=\u001b[39;49m\u001b[43mrequest\u001b[49m\u001b[38;5;241;43m.\u001b[39;49m\u001b[43murl\u001b[49m\u001b[43m)\u001b[49m\n\u001b[1;32m    699\u001b[0m \u001b[38;5;66;03m# Start time (approximately) of the request\u001b[39;00m\n\u001b[1;32m    700\u001b[0m start \u001b[38;5;241m=\u001b[39m preferred_clock()\n",
      "File \u001b[0;32m~/Library/Python/3.11/lib/python/site-packages/requests/sessions.py:794\u001b[0m, in \u001b[0;36mSession.get_adapter\u001b[0;34m(self, url)\u001b[0m\n\u001b[1;32m    791\u001b[0m         \u001b[38;5;28;01mreturn\u001b[39;00m adapter\n\u001b[1;32m    793\u001b[0m \u001b[38;5;66;03m# Nothing matches :-/\u001b[39;00m\n\u001b[0;32m--> 794\u001b[0m \u001b[38;5;28;01mraise\u001b[39;00m InvalidSchema(\u001b[38;5;124mf\u001b[39m\u001b[38;5;124m\"\u001b[39m\u001b[38;5;124mNo connection adapters were found for \u001b[39m\u001b[38;5;132;01m{\u001b[39;00murl\u001b[38;5;132;01m!r}\u001b[39;00m\u001b[38;5;124m\"\u001b[39m)\n",
      "\u001b[0;31mInvalidSchema\u001b[0m: No connection adapters were found for '<!DOCTYPE html>\\n<html>\\n    <head>\\n        <meta charset=\"utf-8\" />\\n        <meta name=\"viewport\" content=\"width=device-width,initial-scale=1.0\">\\n        <title>Cambridge Account - Loading Session Information</title>\\n        <script>\\n\"use strict\";\\nfunction readLocalStorage(key) {\\n    var success;\\n    try {\\n        var value = localStorage.getItem(key);\\n        if (value != null) {\\n            document.form1[\"shib_idp_ls_value.\" + key].value = value;\\n        }\\n        success = \"true\";\\n    } catch (e) {\\n        success = \"false\";\\n        document.form1[\"shib_idp_ls_exception.\" + key].value = e;\\n    }\\n    document.form1[\"shib_idp_ls_success.\" + key].value = success;\\n}\\n\\nfunction isLocalStorageSupported() {\\n    try {\\n        localStorage.setItem(\"shib_idp_ls_test\", \"shib_idp_ls_test\");\\n        localStorage.removeItem(\"shib_idp_ls_test\");\\n        return true;\\n    } catch (e) {\\n        return false;\\n    }\\n}\\n        </script>\\n        <link rel=\"stylesheet\" href=\"/stylesheets/custom.css?build=202303301735\" />\\n        <link rel=\"stylesheet\" href=\"/stylesheets/spinner.css?build=202303301735\" />\\n    </head>\\n    <body onload=\"doLoad()\">\\n      <div class=\"outer\">\\n       <div class=\"middle\">\\n        <div class=\"win-scroll\">\\n          <div class=\"flex-column\">\\n            <div id=\"lightbox\">\\n              <div class=\"lightbox-cover\"></div>\\n              <div>\\n                <img  id=\"bannerLogo\"\\n                      class=\"banner-logo ext-banner-logo\"\\n                      src=\"/images/cambridge-logo.png\" />\\n              </div>\\n              <div class=\"preloader\" align=\"center\">\\n                <div class=\\'loader\\'>\\n                  <div class=\"bg\"></div>\\n                  <div class=\\'circle\\'></div>\\n                  <div class=\\'circle\\'></div>\\n                  <div class=\\'circle\\'></div>\\n                  <div class=\\'circle\\'></div>\\n                  <div class=\\'circle\\'></div>\\n                </div>\\n              </div>\\n              <div class=\"redirect-type-block\" align=\"center\">\\n                <span class=\"redirect-type-block-text\">\\n                  Loading login session information from the browser...\\n                  </span>\\n                  <noscript>\\n                      <div class=\"no-js-content\">\\n                      Your browser either does not support JavaScript or it is being blocked. Please, enable JavaScript in your browser or use one which supports it.\\n                      </div>\\n                  </noscript>\\n              </div>\\n            </div>\\n          </div>\\n        </div>\\n      </div>\\n      <div class=\"bottom-bar\">\\n          <a target=\"_blank\" href=\"https://www.uis.cam.ac.uk/privacy-notice\">Privacy policy</a>\\n          <a target=\"_blank\" href=\"https://shib.raven.cam.ac.uk/cookie-policy.html\">Cookie policy</a>\\n          <a target=\"_blank\" href=\"https://help.uis.cam.ac.uk/service/accounts-passwords\">Help</a>\\n      </div>\\n    </div>\\n<form name=\"form1\" action=\"/idp/profile/SAML2/Redirect/SSO?execution=e1s1\" method=\"post\">\\n        <input name=\"shib_idp_ls_exception.shib_idp_session_ss\" type=\"hidden\" />\\n        <input name=\"shib_idp_ls_success.shib_idp_session_ss\" type=\"hidden\" value=\"false\" />\\n        <input name=\"shib_idp_ls_value.shib_idp_session_ss\" type=\"hidden\" />\\n        <input name=\"shib_idp_ls_exception.shib_idp_persistent_ss\" type=\"hidden\" />\\n        <input name=\"shib_idp_ls_success.shib_idp_persistent_ss\" type=\"hidden\" value=\"false\" />\\n        <input name=\"shib_idp_ls_value.shib_idp_persistent_ss\" type=\"hidden\" />\\n    <input name=\"shib_idp_ls_supported\" type=\"hidden\" />\\n    <input name=\"_eventId_proceed\" type=\"hidden\" />\\n    <noscript>\\n        <input type=\"submit\" value=\"Continue\" />\\n    </noscript>\\n</form>\\n\\n<script>\\n<!--\\nfunction doLoad() {\\n    var localStorageSupported = isLocalStorageSupported();\\n    document.form1[\"shib_idp_ls_supported\"].value = localStorageSupported;\\n    if (localStorageSupported) {\\n        readLocalStorage(\"shib_idp_session_ss\");\\n        readLocalStorage(\"shib_idp_persistent_ss\");\\n    }\\n    document.form1.submit();\\n}\\n// -->\\n</script>    </body>\\n</html>'"
     ]
    }
   ],
   "source": [
    "def read_html_with_requests(file_url):\n",
    "    # Fetch HTML content using requests\n",
    "    response = requests.get(file_url)\n",
    "    # Read HTML content into DataFrame using read_html()\n",
    "    df = pd.read_html(response.content)[0]\n",
    "    return df\n",
    " \n",
    "# File URL\n",
    "res = requests.get(\"https://apps.chu.cam.ac.uk/internal/roomsballot/allchoices.php\")\n",
    "page = res.text\n",
    " \n",
    "# Read HTML file using requests with read_html()\n",
    "df = read_html_with_requests(page)\n",
    " \n",
    "# Display DataFrame\n",
    "print(\"Approach 3 Output:\")\n",
    "print(df)"
   ]
  }
 ],
 "metadata": {
  "kernelspec": {
   "display_name": "Python 3",
   "language": "python",
   "name": "python3"
  },
  "language_info": {
   "codemirror_mode": {
    "name": "ipython",
    "version": 3
   },
   "file_extension": ".py",
   "mimetype": "text/x-python",
   "name": "python",
   "nbconvert_exporter": "python",
   "pygments_lexer": "ipython3",
   "version": "3.11.4"
  }
 },
 "nbformat": 4,
 "nbformat_minor": 2
}
